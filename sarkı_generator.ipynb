{
  "nbformat": 4,
  "nbformat_minor": 0,
  "metadata": {
    "colab": {
      "name": "sarkı_generator.ipynb",
      "provenance": [],
      "collapsed_sections": []
    },
    "kernelspec": {
      "name": "python3",
      "display_name": "Python 3"
    },
    "language_info": {
      "name": "python"
    }
  },
  "cells": [
    {
      "cell_type": "code",
      "metadata": {
        "id": "d6ODvbBoHKZ8",
        "colab": {
          "base_uri": "https://localhost:8080/"
        },
        "cellView": "form",
        "outputId": "94b91c9e-89a2-4334-e068-289a75cfbf5e"
      },
      "source": [
        "#@title Kurulum ve ayarlamalar\n",
        "\n",
        "import os\n",
        "\n",
        "os.system(\"git clone https://github.com/rapperasistan/encore.ai\")\n",
        "\n",
        "os.chdir(\"encore.ai/code\")\n",
        "\n",
        "os.system(\"\"\"\n",
        "pip2 install \"tensorflow==1.14.0\"\n",
        "\"\"\")\n",
        "\n",
        "os.system(\"\"\"\n",
        "pip2 install \"tensorflow_gpu==1.14.0\"\n",
        "\"\"\")\n",
        "\n",
        "os.system(\"\"\"\n",
        "pip install lyricsgenius\n",
        "\"\"\")"
      ],
      "execution_count": null,
      "outputs": [
        {
          "output_type": "execute_result",
          "data": {
            "text/plain": [
              "0"
            ]
          },
          "metadata": {
            "tags": []
          },
          "execution_count": 1
        }
      ]
    },
    {
      "cell_type": "markdown",
      "metadata": {
        "id": "6R9ahRkuHlg7"
      },
      "source": [
        "Şimdi sol tarafta klasör işareti var ona tıklayın\n",
        "\n",
        "\"encore.ai\"a tıklayın\n",
        "data adında bir klasör oluşturun ve içine girin\n",
        "artists adında bir klasör oluşturun ve içine girin\n",
        "\n",
        "burada şarkı kategorileri oluşturup içlerine şarkının metnini koyacaksınız örneğin;\n",
        "\n",
        "pop/x_sarkısı.txt \n",
        "\n"
      ]
    },
    {
      "cell_type": "markdown",
      "metadata": {
        "id": "5yhouxU-Ii0k"
      },
      "source": [
        "Aşağıdaki kodda onur yazan kısımları kategorinin adı olarak değiştirin."
      ]
    },
    {
      "cell_type": "code",
      "metadata": {
        "id": "r2bho40Ongxk"
      },
      "source": [
        "!python2 runner.py -a onur -m onur_model # eğitim\n",
        "# 30 binincide durabilirsiniz yeterlidir."
      ],
      "execution_count": null,
      "outputs": []
    },
    {
      "cell_type": "markdown",
      "metadata": {
        "id": "l1oMUsjFLbYd"
      },
      "source": [
        "Aşağıdaki kısımdada onur yerine kategori adını koyun ve kaçıncı stepsi istediğinizi yazın (10000 bunu değiştirin yani)"
      ]
    },
    {
      "cell_type": "code",
      "metadata": {
        "id": "FTmb0cGvHZjB"
      },
      "source": [
        "!python2 runner.py -a onur -l ../save/models/onur_model/onur.ckpt-30000 -n 5 # soldaki sayıya yazdığınız kadar üretir ve save klasöründe results.txt ye koyar (hali hazırda varsa ekleme yapar), her üretim bir satıra"
      ],
      "execution_count": null,
      "outputs": []
    },
    {
      "cell_type": "markdown",
      "metadata": {
        "id": "Rvjhf3RT3sah"
      },
      "source": [
        "hocam müzikleri eklemedn önce alttaki kısımdan geçirin ve tavsiye ettikleri müzik sitesi şu : https://www.azlyrics.com/\n",
        "\n",
        "burdan şarkıların yapısını anlayabilirsiniz"
      ]
    },
    {
      "cell_type": "markdown",
      "metadata": {
        "id": "STfKMfpc4LQp"
      },
      "source": [
        "Aşağıda ki 3 lü tırnaklar arasına müziği koyun çalıştırın sonra aşağıdaki çıkıştakini texte kaydedin"
      ]
    },
    {
      "cell_type": "code",
      "metadata": {
        "id": "OxifJN-Ayio4"
      },
      "source": [
        "muzik = \"\"\"\n",
        "\n",
        "\"\"\"\n",
        "print(muzik.replace('\\r\\n', ' *BREAK* ').replace('\\n', ' *BREAK* ').replace('  ', ' '))"
      ],
      "execution_count": null,
      "outputs": []
    },
    {
      "cell_type": "code",
      "metadata": {
        "colab": {
          "base_uri": "https://localhost:8080/"
        },
        "id": "4XE7OJro9Fjo",
        "cellView": "form",
        "outputId": "00dcf362-997b-4b1a-d06d-eb431d6bcdc2"
      },
      "source": [
        "#@title Şarkı Çekme\n",
        "\n",
        "import lyricsgenius as genius\n",
        "import csv\n",
        "\n",
        "token = \"x\" #@param {type:\"string\"}\n",
        "\n",
        "\n",
        "api = genius.Genius(token)\n",
        "\n",
        "kategori = \"trap\" #@param {type:\"string\"}\n",
        "\n",
        "artist_adi = \"Andy Shauf\" #@param {type:\"string\"}\n",
        "max_kac_sarki =  3 #@param {type:\"integer\"}\n",
        "\n",
        "if not os.path.exists('../data/'):\n",
        "  os.mkdir(\"../data/\")\n",
        "if not os.path.exists('../data/artists/'):\n",
        "  os.mkdir(\"../data/artists/\")\n",
        "\n",
        "if not os.path.exists(f\"../data/artists/{kategori}/\"):\n",
        "  os.mkdir(f\"../data/artists/{kategori}/\")\n",
        "\n",
        "artist = api.search_artist(artist_adi, max_songs=max_kac_sarki, sort=\"title\")\n",
        "\n",
        "full_lyrics = \"\"\n",
        "\n",
        "for song in artist.songs:\n",
        "  \n",
        "  full_lyrics = full_lyrics + song.lyrics\n",
        "\n",
        "\n",
        "with open(f\"../data/artists/{kategori}/songs_full_text.txt\", 'a') as f:\n",
        "          f.write(full_lyrics)\n",
        "\n"
      ],
      "execution_count": null,
      "outputs": [
        {
          "output_type": "stream",
          "text": [
            "Searching for songs by Andy Shauf...\n",
            "\n",
            "Song 1: \"Alexander All Alone\"\n",
            "Song 2: \"All the Same\"\n",
            "Song 3: \"Angela\"\n",
            "\n",
            "Reached user-specified song limit (3).\n",
            "Done. Found 3 songs.\n"
          ],
          "name": "stdout"
        }
      ]
    }
  ]
}
